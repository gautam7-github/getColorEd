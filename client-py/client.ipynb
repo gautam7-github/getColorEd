{
 "cells": [
  {
   "cell_type": "code",
   "execution_count": 1,
   "metadata": {},
   "outputs": [],
   "source": [
    "import requests\n",
    "files = {\n",
    "    'image': open('./images/959309.png','rb')\n",
    "}\n",
    "url = 'http://localhost:5000/api/v1/get'\n",
    "r = requests.post(url,files=files)"
   ]
  },
  {
   "cell_type": "code",
   "execution_count": 9,
   "metadata": {},
   "outputs": [
    {
     "data": {
      "text/plain": [
       "['#010838', '#046eb8', '#3a034b', '#4cb5ef']"
      ]
     },
     "execution_count": 9,
     "metadata": {},
     "output_type": "execute_result"
    }
   ],
   "source": [
    "r.json()['colors']"
   ]
  }
 ],
 "metadata": {
  "kernelspec": {
   "display_name": "Python 3.8.1 ('venv': venv)",
   "language": "python",
   "name": "python3"
  },
  "language_info": {
   "codemirror_mode": {
    "name": "ipython",
    "version": 3
   },
   "file_extension": ".py",
   "mimetype": "text/x-python",
   "name": "python",
   "nbconvert_exporter": "python",
   "pygments_lexer": "ipython3",
   "version": "3.8.1"
  },
  "orig_nbformat": 4,
  "vscode": {
   "interpreter": {
    "hash": "1415cf3793e768514237b1f54d94c5cfbdfc4502d7350cd5d995b2e5f3057cf2"
   }
  }
 },
 "nbformat": 4,
 "nbformat_minor": 2
}
